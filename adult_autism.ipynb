{
  "nbformat": 4,
  "nbformat_minor": 0,
  "metadata": {
    "kernelspec": {
      "display_name": "Python 3",
      "language": "python",
      "name": "python3"
    },
    "language_info": {
      "codemirror_mode": {
        "name": "ipython",
        "version": 3
      },
      "file_extension": ".py",
      "mimetype": "text/x-python",
      "name": "python",
      "nbconvert_exporter": "python",
      "pygments_lexer": "ipython3",
      "version": "3.7.3"
    },
    "colab": {
      "name": "Adult  Autism.ipynb",
      "provenance": [],
      "toc_visible": true
    }
  },
  "cells": [
    {
      "cell_type": "code",
      "metadata": {
        "id": "epDFrVqENrmP",
        "colab": {
          "base_uri": "https://localhost:8080/",
          "height": 1000
        },
        "outputId": "9ad16e8f-a5fa-418e-b3c4-de6e427cfddf"
      },
      "source": [
        "# Autistic Spectrum Disorder Screening\n",
        "import pandas as pd\n",
        "from sklearn import model_selection\n",
        "from keras import Sequential\n",
        "from keras.layers import Dense\n",
        "from keras.optimizers import Adam \n",
        "from sklearn.metrics import classification_report, accuracy_score\n",
        "\n",
        "# import the dataset\n",
        "file ='/content/sample_data/dataset.csv'\n",
        "names = ['A1_Score',\n",
        "        'A2_Score', \n",
        "        'A3_Score',                            \n",
        "        'A4_Score',                           \n",
        "        'A5_Score',                            \n",
        "        'A6_Score',                           \n",
        "        'A7_Score',                            \n",
        "        'A8_Score',                           \n",
        "        'A9_Score',                            \n",
        "        'A10_Score',                          \n",
        "        'age',                        \n",
        "        'gender ',                             \n",
        "        'ethnicity',                     \n",
        "        'jundice',                        \n",
        "        'family_history_of_PDD',         \n",
        "        'contry_of_res',                 \n",
        "        'used_app_before',                \n",
        "        'result',                         \n",
        "        'age_desc',                \n",
        "        'relation',         \n",
        "        'class'\n",
        "    ]\n",
        "data = pd.read_csv(file, names=names)\n",
        "\n",
        "# print the shape of the dtaframe, so we can see how many examples we have\n",
        "print ('Shape of dataframe: {}'.format(data.shape))\n",
        "print (data.loc[0])\n",
        "# display multiple patients\n",
        "print (data.loc[:10])\n",
        "# description of the dataframe\n",
        "print (data.describe())\n",
        "\n",
        "# Data Preprocessing\n",
        "\n",
        "# drop unwanted columns\n",
        "data = data.drop(['result', 'age_desc'], axis=1)\n",
        "print (data.loc[:10])\n",
        "# create X and Y dataset for training\n",
        "x = data.drop(['class'],1)\n",
        "y = data['class']\n",
        "print (x.loc[:10])\n",
        "\n",
        "# convert the data to categorical values -one-hot-encoded vectors\n",
        "X = pd.get_dummies(x)\n",
        "#print the new categorical labels\n",
        "print (X.columns.values)\n",
        "# print an example patient from the categorical data\n",
        "print (X.loc[1])\n",
        "# covert the class data to categorical values -one-hot-encoded vectors\n",
        "Y = pd.get_dummies(y)\n",
        "print (Y.iloc[:10])\n",
        "\n",
        "# Split the X and Y data into training and testing datasets\n",
        "X_train, X_test, Y_train, Y_test = model_selection.train_test_split(X, Y, test_size = 0.2)\n",
        "print (X_train.shape)\n",
        "print (Y_train.shape)\n",
        "print (X_test.shape)\n",
        "print (Y_test.shape)\n",
        "\n",
        "# Build a neural network using Keras\n",
        "'''This model will be relatively simple and will only use dense (also known as fully connected) layers.\n",
        "This is the most common neural network layer. The network will have one hidden layer, use an Adam optimizer,\n",
        "and a categorical crossentropy loss.''' \n",
        "\n",
        "# define a function to build the keras model\n",
        "def create_model():\n",
        "    model = Sequential()\n",
        "    model.add(Dense(8, input_dim=149, kernel_initializer='normal', activation='relu'))\n",
        "    model.add(Dense(4, kernel_initializer='normal', activation='relu'))\n",
        "    model.add(Dense(2, activation='sigmoid'))\n",
        "\n",
        "    adam=Adam(lr=0.001)\n",
        "    model.compile(loss='categorical_crossentropy', optimizer=adam, metrics=['accuracy'])\n",
        "    return model\n",
        "\n",
        "model = create_model()\n",
        "print(model.summary())\n",
        "\n",
        "# Training the network - fit the model to the training data\n",
        "model.fit(X_train, Y_train, epochs = 100, batch_size=10, verbose =1)\n",
        "\n",
        "# Testing and Performance metrics\n",
        "\n",
        "# generate classification report using predictions for categorical model\n",
        "predictions = model.predict_classes(X_test)\n",
        "print (predictions)\n",
        "print('Prediction Reults for Neural Network')\n",
        "print(accuracy_score(Y_test[['YES']], predictions))\n",
        "print(classification_report(Y_test[['YES']], predictions))\n",
        "\n",
        "#prediction for any example\n",
        "example = X_test.iloc[1]\n",
        "print(example)\n",
        "prediction = model.predict_classes(example.values.reshape(1,-1))\n",
        "print(prediction)\n"
      ],
      "execution_count": null,
      "outputs": [
        {
          "output_type": "stream",
          "text": [
            "Shape of dataframe: (704, 21)\n",
            "A1_Score                               1\n",
            "A2_Score                               1\n",
            "A3_Score                               1\n",
            "A4_Score                               1\n",
            "A5_Score                               0\n",
            "A6_Score                               0\n",
            "A7_Score                               1\n",
            "A8_Score                               1\n",
            "A9_Score                               0\n",
            "A10_Score                              0\n",
            "age                                   26\n",
            "gender                                 f\n",
            "ethnicity                 White-European\n",
            "jundice                               no\n",
            "family_history_of_PDD                 no\n",
            "contry_of_res            'United States'\n",
            "used_app_before                       no\n",
            "result                                 6\n",
            "age_desc                   '18 and more'\n",
            "relation                            Self\n",
            "class                                 NO\n",
            "Name: 0, dtype: object\n",
            "    A1_Score  A2_Score  ...                    relation  class\n",
            "0          1         1  ...                        Self     NO\n",
            "1          1         1  ...                        Self     NO\n",
            "2          1         1  ...                      Parent    YES\n",
            "3          1         1  ...                        Self     NO\n",
            "4          1         0  ...                           ?     NO\n",
            "5          1         1  ...                        Self    YES\n",
            "6          1         1  ...                      Parent     NO\n",
            "7          1         1  ...                        Self     NO\n",
            "8          1         1  ...  'Health care professional'    YES\n",
            "9          1         1  ...                    Relative    YES\n",
            "10         1         0  ...                           ?     NO\n",
            "\n",
            "[11 rows x 21 columns]\n",
            "         A1_Score    A2_Score    A3_Score  ...    A9_Score   A10_Score      result\n",
            "count  704.000000  704.000000  704.000000  ...  704.000000  704.000000  704.000000\n",
            "mean     0.721591    0.453125    0.457386  ...    0.323864    0.573864    4.875000\n",
            "std      0.448535    0.498152    0.498535  ...    0.468281    0.494866    2.501493\n",
            "min      0.000000    0.000000    0.000000  ...    0.000000    0.000000    0.000000\n",
            "25%      0.000000    0.000000    0.000000  ...    0.000000    0.000000    3.000000\n",
            "50%      1.000000    0.000000    0.000000  ...    0.000000    1.000000    4.000000\n",
            "75%      1.000000    1.000000    1.000000  ...    1.000000    1.000000    7.000000\n",
            "max      1.000000    1.000000    1.000000  ...    1.000000    1.000000   10.000000\n",
            "\n",
            "[8 rows x 11 columns]\n",
            "    A1_Score  A2_Score  ...                    relation  class\n",
            "0          1         1  ...                        Self     NO\n",
            "1          1         1  ...                        Self     NO\n",
            "2          1         1  ...                      Parent    YES\n",
            "3          1         1  ...                        Self     NO\n",
            "4          1         0  ...                           ?     NO\n",
            "5          1         1  ...                        Self    YES\n",
            "6          1         1  ...                      Parent     NO\n",
            "7          1         1  ...                        Self     NO\n",
            "8          1         1  ...  'Health care professional'    YES\n",
            "9          1         1  ...                    Relative    YES\n",
            "10         1         0  ...                           ?     NO\n",
            "\n",
            "[11 rows x 19 columns]\n",
            "    A1_Score  A2_Score  ...  used_app_before                    relation\n",
            "0          1         1  ...               no                        Self\n",
            "1          1         1  ...               no                        Self\n",
            "2          1         1  ...               no                      Parent\n",
            "3          1         1  ...               no                        Self\n",
            "4          1         0  ...               no                           ?\n",
            "5          1         1  ...               no                        Self\n",
            "6          1         1  ...               no                      Parent\n",
            "7          1         1  ...               no                        Self\n",
            "8          1         1  ...               no  'Health care professional'\n",
            "9          1         1  ...               no                    Relative\n",
            "10         1         0  ...               no                           ?\n",
            "\n",
            "[11 rows x 18 columns]\n",
            "['A1_Score' 'A2_Score' 'A3_Score' 'A4_Score' 'A5_Score' 'A6_Score'\n",
            " 'A7_Score' 'A8_Score' 'A9_Score' 'A10_Score' 'age_17' 'age_18' 'age_19'\n",
            " 'age_20' 'age_21' 'age_22' 'age_23' 'age_24' 'age_25' 'age_26' 'age_27'\n",
            " 'age_28' 'age_29' 'age_30' 'age_31' 'age_32' 'age_33' 'age_34' 'age_35'\n",
            " 'age_36' 'age_37' 'age_38' 'age_383' 'age_39' 'age_40' 'age_41' 'age_42'\n",
            " 'age_43' 'age_44' 'age_45' 'age_46' 'age_47' 'age_48' 'age_49' 'age_50'\n",
            " 'age_51' 'age_52' 'age_53' 'age_54' 'age_55' 'age_56' 'age_58' 'age_59'\n",
            " 'age_60' 'age_61' 'age_64' 'age_?' 'gender _f' 'gender _m'\n",
            " \"ethnicity_'Middle Eastern '\" \"ethnicity_'South Asian'\" 'ethnicity_Asian'\n",
            " 'ethnicity_Black' 'ethnicity_Hispanic' 'ethnicity_Latino'\n",
            " 'ethnicity_Others' 'ethnicity_Pasifika' 'ethnicity_Turkish'\n",
            " 'ethnicity_White-European' 'ethnicity_others' 'jundice_no' 'jundice_yes'\n",
            " 'family_history_of_PDD_no' 'family_history_of_PDD_yes'\n",
            " \"contry_of_res_'Costa Rica'\" \"contry_of_res_'Czech Republic'\"\n",
            " \"contry_of_res_'Hong Kong'\" \"contry_of_res_'New Zealand'\"\n",
            " \"contry_of_res_'Saudi Arabia'\" \"contry_of_res_'Sierra Leone'\"\n",
            " \"contry_of_res_'South Africa'\" \"contry_of_res_'Sri Lanka'\"\n",
            " \"contry_of_res_'United Arab Emirates'\" \"contry_of_res_'United Kingdom'\"\n",
            " \"contry_of_res_'United States'\" \"contry_of_res_'Viet Nam'\"\n",
            " 'contry_of_res_Afghanistan' 'contry_of_res_AmericanSamoa'\n",
            " 'contry_of_res_Angola' 'contry_of_res_Argentina' 'contry_of_res_Armenia'\n",
            " 'contry_of_res_Aruba' 'contry_of_res_Australia' 'contry_of_res_Austria'\n",
            " 'contry_of_res_Azerbaijan' 'contry_of_res_Bahamas'\n",
            " 'contry_of_res_Bangladesh' 'contry_of_res_Belgium'\n",
            " 'contry_of_res_Bolivia' 'contry_of_res_Brazil' 'contry_of_res_Burundi'\n",
            " 'contry_of_res_Canada' 'contry_of_res_Chile' 'contry_of_res_China'\n",
            " 'contry_of_res_Cyprus' 'contry_of_res_Ecuador' 'contry_of_res_Egypt'\n",
            " 'contry_of_res_Ethiopia' 'contry_of_res_Finland' 'contry_of_res_France'\n",
            " 'contry_of_res_Germany' 'contry_of_res_Iceland' 'contry_of_res_India'\n",
            " 'contry_of_res_Indonesia' 'contry_of_res_Iran' 'contry_of_res_Iraq'\n",
            " 'contry_of_res_Ireland' 'contry_of_res_Italy' 'contry_of_res_Japan'\n",
            " 'contry_of_res_Jordan' 'contry_of_res_Kazakhstan' 'contry_of_res_Lebanon'\n",
            " 'contry_of_res_Malaysia' 'contry_of_res_Mexico' 'contry_of_res_Nepal'\n",
            " 'contry_of_res_Netherlands' 'contry_of_res_Nicaragua'\n",
            " 'contry_of_res_Niger' 'contry_of_res_Oman' 'contry_of_res_Pakistan'\n",
            " 'contry_of_res_Philippines' 'contry_of_res_Portugal'\n",
            " 'contry_of_res_Romania' 'contry_of_res_Russia' 'contry_of_res_Serbia'\n",
            " 'contry_of_res_Spain' 'contry_of_res_Sweden' 'contry_of_res_Tonga'\n",
            " 'contry_of_res_Turkey' 'contry_of_res_Ukraine' 'contry_of_res_Uruguay'\n",
            " 'used_app_before_no' 'used_app_before_yes'\n",
            " \"relation_'Health care professional'\" 'relation_?' 'relation_Others'\n",
            " 'relation_Parent' 'relation_Relative' 'relation_Self']\n",
            "A1_Score             1\n",
            "A2_Score             1\n",
            "A3_Score             0\n",
            "A4_Score             1\n",
            "A5_Score             0\n",
            "                    ..\n",
            "relation_?           0\n",
            "relation_Others      0\n",
            "relation_Parent      0\n",
            "relation_Relative    0\n",
            "relation_Self        1\n",
            "Name: 1, Length: 149, dtype: int64\n",
            "   NO  YES\n",
            "0   1    0\n",
            "1   1    0\n",
            "2   0    1\n",
            "3   1    0\n",
            "4   1    0\n",
            "5   0    1\n",
            "6   1    0\n",
            "7   1    0\n",
            "8   0    1\n",
            "9   0    1\n",
            "(563, 149)\n",
            "(563, 2)\n",
            "(141, 149)\n",
            "(141, 2)\n",
            "Model: \"sequential_8\"\n",
            "_________________________________________________________________\n",
            "Layer (type)                 Output Shape              Param #   \n",
            "=================================================================\n",
            "dense_22 (Dense)             (None, 8)                 1200      \n",
            "_________________________________________________________________\n",
            "dense_23 (Dense)             (None, 4)                 36        \n",
            "_________________________________________________________________\n",
            "dense_24 (Dense)             (None, 2)                 10        \n",
            "=================================================================\n",
            "Total params: 1,246\n",
            "Trainable params: 1,246\n",
            "Non-trainable params: 0\n",
            "_________________________________________________________________\n",
            "None\n",
            "Epoch 1/100\n",
            "563/563 [==============================] - 1s 1ms/step - loss: 0.6828 - acc: 0.7052\n",
            "Epoch 2/100\n",
            "563/563 [==============================] - 0s 136us/step - loss: 0.6421 - acc: 0.7282\n",
            "Epoch 3/100\n",
            "563/563 [==============================] - 0s 130us/step - loss: 0.5836 - acc: 0.7282\n",
            "Epoch 4/100\n",
            "563/563 [==============================] - 0s 125us/step - loss: 0.5189 - acc: 0.7282\n",
            "Epoch 5/100\n",
            "563/563 [==============================] - 0s 138us/step - loss: 0.4520 - acc: 0.7282\n",
            "Epoch 6/100\n",
            "563/563 [==============================] - 0s 142us/step - loss: 0.3988 - acc: 0.7282\n",
            "Epoch 7/100\n",
            "563/563 [==============================] - 0s 130us/step - loss: 0.3614 - acc: 0.7282\n",
            "Epoch 8/100\n",
            "563/563 [==============================] - 0s 133us/step - loss: 0.3326 - acc: 0.7282\n",
            "Epoch 9/100\n",
            "563/563 [==============================] - 0s 136us/step - loss: 0.3091 - acc: 0.7282\n",
            "Epoch 10/100\n",
            "563/563 [==============================] - 0s 144us/step - loss: 0.2920 - acc: 0.7282\n",
            "Epoch 11/100\n",
            "563/563 [==============================] - 0s 137us/step - loss: 0.2755 - acc: 0.9041\n",
            "Epoch 12/100\n",
            "563/563 [==============================] - 0s 134us/step - loss: 0.2605 - acc: 0.9432\n",
            "Epoch 13/100\n",
            "563/563 [==============================] - 0s 128us/step - loss: 0.2463 - acc: 0.9591\n",
            "Epoch 14/100\n",
            "563/563 [==============================] - 0s 144us/step - loss: 0.2364 - acc: 0.9467\n",
            "Epoch 15/100\n",
            "563/563 [==============================] - 0s 125us/step - loss: 0.2231 - acc: 0.9574\n",
            "Epoch 16/100\n",
            "563/563 [==============================] - 0s 136us/step - loss: 0.2135 - acc: 0.9627\n",
            "Epoch 17/100\n",
            "563/563 [==============================] - 0s 135us/step - loss: 0.2033 - acc: 0.9627\n",
            "Epoch 18/100\n",
            "563/563 [==============================] - 0s 138us/step - loss: 0.1942 - acc: 0.9663\n",
            "Epoch 19/100\n",
            "563/563 [==============================] - 0s 126us/step - loss: 0.1863 - acc: 0.9787\n",
            "Epoch 20/100\n",
            "563/563 [==============================] - 0s 132us/step - loss: 0.1781 - acc: 0.9769\n",
            "Epoch 21/100\n",
            "563/563 [==============================] - 0s 133us/step - loss: 0.1694 - acc: 0.9805\n",
            "Epoch 22/100\n",
            "563/563 [==============================] - 0s 138us/step - loss: 0.1621 - acc: 0.9822\n",
            "Epoch 23/100\n",
            "563/563 [==============================] - 0s 134us/step - loss: 0.1558 - acc: 0.9876\n",
            "Epoch 24/100\n",
            "563/563 [==============================] - 0s 130us/step - loss: 0.1491 - acc: 0.9858\n",
            "Epoch 25/100\n",
            "563/563 [==============================] - 0s 129us/step - loss: 0.1438 - acc: 0.9876\n",
            "Epoch 26/100\n",
            "563/563 [==============================] - 0s 146us/step - loss: 0.1368 - acc: 0.9911\n",
            "Epoch 27/100\n",
            "563/563 [==============================] - 0s 133us/step - loss: 0.1320 - acc: 0.9929\n",
            "Epoch 28/100\n",
            "563/563 [==============================] - 0s 130us/step - loss: 0.1273 - acc: 0.9911\n",
            "Epoch 29/100\n",
            "563/563 [==============================] - 0s 147us/step - loss: 0.1213 - acc: 0.9947\n",
            "Epoch 30/100\n",
            "563/563 [==============================] - 0s 136us/step - loss: 0.1163 - acc: 0.9947\n",
            "Epoch 31/100\n",
            "563/563 [==============================] - 0s 143us/step - loss: 0.1132 - acc: 0.9929\n",
            "Epoch 32/100\n",
            "563/563 [==============================] - 0s 157us/step - loss: 0.1080 - acc: 0.9947\n",
            "Epoch 33/100\n",
            "563/563 [==============================] - 0s 147us/step - loss: 0.1041 - acc: 0.9947\n",
            "Epoch 34/100\n",
            "563/563 [==============================] - 0s 132us/step - loss: 0.1008 - acc: 0.9947\n",
            "Epoch 35/100\n",
            "563/563 [==============================] - 0s 142us/step - loss: 0.0962 - acc: 0.9964\n",
            "Epoch 36/100\n",
            "563/563 [==============================] - 0s 132us/step - loss: 0.0929 - acc: 0.9982\n",
            "Epoch 37/100\n",
            "563/563 [==============================] - 0s 123us/step - loss: 0.0899 - acc: 0.9982\n",
            "Epoch 38/100\n",
            "563/563 [==============================] - 0s 137us/step - loss: 0.0863 - acc: 0.9982\n",
            "Epoch 39/100\n",
            "563/563 [==============================] - 0s 136us/step - loss: 0.0828 - acc: 0.9982\n",
            "Epoch 40/100\n",
            "563/563 [==============================] - 0s 145us/step - loss: 0.0813 - acc: 0.9982\n",
            "Epoch 41/100\n",
            "563/563 [==============================] - 0s 133us/step - loss: 0.0770 - acc: 0.9982\n",
            "Epoch 42/100\n",
            "563/563 [==============================] - 0s 135us/step - loss: 0.0744 - acc: 0.9982\n",
            "Epoch 43/100\n",
            "563/563 [==============================] - 0s 141us/step - loss: 0.0727 - acc: 0.9964\n",
            "Epoch 44/100\n",
            "563/563 [==============================] - 0s 134us/step - loss: 0.0709 - acc: 0.9982\n",
            "Epoch 45/100\n",
            "563/563 [==============================] - 0s 128us/step - loss: 0.0670 - acc: 0.9982\n",
            "Epoch 46/100\n",
            "563/563 [==============================] - 0s 145us/step - loss: 0.0642 - acc: 0.9982\n",
            "Epoch 47/100\n",
            "563/563 [==============================] - 0s 154us/step - loss: 0.0618 - acc: 0.9982\n",
            "Epoch 48/100\n",
            "563/563 [==============================] - 0s 138us/step - loss: 0.0595 - acc: 0.9982\n",
            "Epoch 49/100\n",
            "563/563 [==============================] - 0s 136us/step - loss: 0.0573 - acc: 1.0000\n",
            "Epoch 50/100\n",
            "563/563 [==============================] - 0s 139us/step - loss: 0.0552 - acc: 1.0000\n",
            "Epoch 51/100\n",
            "563/563 [==============================] - 0s 130us/step - loss: 0.0528 - acc: 1.0000\n",
            "Epoch 52/100\n",
            "563/563 [==============================] - 0s 131us/step - loss: 0.0504 - acc: 1.0000\n",
            "Epoch 53/100\n",
            "563/563 [==============================] - 0s 131us/step - loss: 0.0490 - acc: 1.0000\n",
            "Epoch 54/100\n",
            "563/563 [==============================] - 0s 133us/step - loss: 0.0471 - acc: 1.0000\n",
            "Epoch 55/100\n",
            "563/563 [==============================] - 0s 139us/step - loss: 0.0457 - acc: 1.0000\n",
            "Epoch 56/100\n",
            "563/563 [==============================] - 0s 132us/step - loss: 0.0437 - acc: 1.0000\n",
            "Epoch 57/100\n",
            "563/563 [==============================] - 0s 138us/step - loss: 0.0423 - acc: 1.0000\n",
            "Epoch 58/100\n",
            "563/563 [==============================] - 0s 143us/step - loss: 0.0409 - acc: 1.0000\n",
            "Epoch 59/100\n",
            "563/563 [==============================] - 0s 135us/step - loss: 0.0398 - acc: 1.0000\n",
            "Epoch 60/100\n",
            "563/563 [==============================] - 0s 136us/step - loss: 0.0382 - acc: 1.0000\n",
            "Epoch 61/100\n",
            "563/563 [==============================] - 0s 128us/step - loss: 0.0370 - acc: 1.0000\n",
            "Epoch 62/100\n",
            "563/563 [==============================] - 0s 149us/step - loss: 0.0360 - acc: 1.0000\n",
            "Epoch 63/100\n",
            "563/563 [==============================] - 0s 136us/step - loss: 0.0351 - acc: 1.0000\n",
            "Epoch 64/100\n",
            "563/563 [==============================] - 0s 136us/step - loss: 0.0335 - acc: 1.0000\n",
            "Epoch 65/100\n",
            "563/563 [==============================] - 0s 137us/step - loss: 0.0324 - acc: 1.0000\n",
            "Epoch 66/100\n",
            "563/563 [==============================] - 0s 143us/step - loss: 0.0315 - acc: 1.0000\n",
            "Epoch 67/100\n",
            "563/563 [==============================] - 0s 143us/step - loss: 0.0304 - acc: 1.0000\n",
            "Epoch 68/100\n",
            "563/563 [==============================] - 0s 142us/step - loss: 0.0293 - acc: 1.0000\n",
            "Epoch 69/100\n",
            "563/563 [==============================] - 0s 139us/step - loss: 0.0284 - acc: 1.0000\n",
            "Epoch 70/100\n",
            "563/563 [==============================] - 0s 136us/step - loss: 0.0275 - acc: 1.0000\n",
            "Epoch 71/100\n",
            "563/563 [==============================] - 0s 133us/step - loss: 0.0268 - acc: 1.0000\n",
            "Epoch 72/100\n",
            "563/563 [==============================] - 0s 131us/step - loss: 0.0259 - acc: 1.0000\n",
            "Epoch 73/100\n",
            "563/563 [==============================] - 0s 132us/step - loss: 0.0250 - acc: 1.0000\n",
            "Epoch 74/100\n",
            "563/563 [==============================] - 0s 143us/step - loss: 0.0243 - acc: 1.0000\n",
            "Epoch 75/100\n",
            "563/563 [==============================] - 0s 145us/step - loss: 0.0235 - acc: 1.0000\n",
            "Epoch 76/100\n",
            "563/563 [==============================] - 0s 141us/step - loss: 0.0229 - acc: 1.0000\n",
            "Epoch 77/100\n",
            "563/563 [==============================] - 0s 127us/step - loss: 0.0222 - acc: 1.0000\n",
            "Epoch 78/100\n",
            "563/563 [==============================] - 0s 133us/step - loss: 0.0216 - acc: 1.0000\n",
            "Epoch 79/100\n",
            "563/563 [==============================] - 0s 131us/step - loss: 0.0210 - acc: 1.0000\n",
            "Epoch 80/100\n",
            "563/563 [==============================] - 0s 132us/step - loss: 0.0204 - acc: 1.0000\n",
            "Epoch 81/100\n",
            "563/563 [==============================] - 0s 131us/step - loss: 0.0199 - acc: 1.0000\n",
            "Epoch 82/100\n",
            "563/563 [==============================] - 0s 133us/step - loss: 0.0191 - acc: 1.0000\n",
            "Epoch 83/100\n",
            "563/563 [==============================] - 0s 143us/step - loss: 0.0186 - acc: 1.0000\n",
            "Epoch 84/100\n",
            "563/563 [==============================] - 0s 135us/step - loss: 0.0182 - acc: 1.0000\n",
            "Epoch 85/100\n",
            "563/563 [==============================] - 0s 132us/step - loss: 0.0176 - acc: 1.0000\n",
            "Epoch 86/100\n",
            "563/563 [==============================] - 0s 136us/step - loss: 0.0171 - acc: 1.0000\n",
            "Epoch 87/100\n",
            "563/563 [==============================] - 0s 146us/step - loss: 0.0166 - acc: 1.0000\n",
            "Epoch 88/100\n",
            "563/563 [==============================] - 0s 137us/step - loss: 0.0161 - acc: 1.0000\n",
            "Epoch 89/100\n",
            "563/563 [==============================] - 0s 138us/step - loss: 0.0157 - acc: 1.0000\n",
            "Epoch 90/100\n",
            "563/563 [==============================] - 0s 139us/step - loss: 0.0152 - acc: 1.0000\n",
            "Epoch 91/100\n",
            "563/563 [==============================] - 0s 134us/step - loss: 0.0148 - acc: 1.0000\n",
            "Epoch 92/100\n",
            "563/563 [==============================] - 0s 134us/step - loss: 0.0144 - acc: 1.0000\n",
            "Epoch 93/100\n",
            "563/563 [==============================] - 0s 165us/step - loss: 0.0141 - acc: 1.0000\n",
            "Epoch 94/100\n",
            "563/563 [==============================] - 0s 151us/step - loss: 0.0136 - acc: 1.0000\n",
            "Epoch 95/100\n",
            "563/563 [==============================] - 0s 138us/step - loss: 0.0133 - acc: 1.0000\n",
            "Epoch 96/100\n",
            "563/563 [==============================] - 0s 138us/step - loss: 0.0129 - acc: 1.0000\n",
            "Epoch 97/100\n",
            "563/563 [==============================] - 0s 135us/step - loss: 0.0125 - acc: 1.0000\n",
            "Epoch 98/100\n",
            "563/563 [==============================] - 0s 137us/step - loss: 0.0122 - acc: 1.0000\n",
            "Epoch 99/100\n",
            "563/563 [==============================] - 0s 137us/step - loss: 0.0118 - acc: 1.0000\n",
            "Epoch 100/100\n",
            "563/563 [==============================] - 0s 138us/step - loss: 0.0116 - acc: 1.0000\n",
            "[0 0 0 0 0 0 0 0 0 0 0 1 0 0 1 0 1 1 0 0 0 0 0 1 0 0 0 0 0 0 0 0 1 1 0 0 1\n",
            " 0 0 1 1 0 0 0 0 0 0 1 0 1 1 0 0 0 0 1 1 0 0 1 1 0 0 0 0 0 1 0 0 1 0 0 0 0\n",
            " 0 0 1 1 0 0 0 0 1 1 0 1 0 1 0 1 0 0 1 0 1 1 0 0 1 1 0 0 0 0 0 0 0 0 0 1 0\n",
            " 0 1 0 0 0 0 0 0 0 1 0 0 0 0 0 0 1 0 0 0 0 0 0 0 0 0 0 0 0 0]\n",
            "Prediction Reults for Neural Network\n",
            "0.9929078014184397\n",
            "              precision    recall  f1-score   support\n",
            "\n",
            "           0       0.99      1.00      1.00       105\n",
            "           1       1.00      0.97      0.99        36\n",
            "\n",
            "    accuracy                           0.99       141\n",
            "   macro avg       1.00      0.99      0.99       141\n",
            "weighted avg       0.99      0.99      0.99       141\n",
            "\n",
            "A1_Score             1\n",
            "A2_Score             1\n",
            "A3_Score             1\n",
            "A4_Score             1\n",
            "A5_Score             0\n",
            "                    ..\n",
            "relation_?           0\n",
            "relation_Others      0\n",
            "relation_Parent      0\n",
            "relation_Relative    0\n",
            "relation_Self        1\n",
            "Name: 344, Length: 149, dtype: int64\n",
            "[0]\n"
          ],
          "name": "stdout"
        }
      ]
    },
    {
      "cell_type": "markdown",
      "metadata": {
        "id": "eBYjzGIZVWjO"
      },
      "source": [
        "SVM METHOD"
      ]
    },
    {
      "cell_type": "code",
      "metadata": {
        "id": "QMuMv8IAR8E7"
      },
      "source": [
        "from sklearn.svm import SVC"
      ],
      "execution_count": null,
      "outputs": []
    },
    {
      "cell_type": "code",
      "metadata": {
        "id": "pt5sQtyiVAhh",
        "colab": {
          "base_uri": "https://localhost:8080/",
          "height": 67
        },
        "outputId": "a60e5670-8e79-44ff-c3b1-06e569bd95c3"
      },
      "source": [
        "from sklearn.model_selection import train_test_split\n",
        "\n",
        "X_train, X_test, y_train, y_test = train_test_split(X, y, test_size=0.33, random_state=2, stratify=y)\n",
        "\n",
        "# 6. Create an SVM classifier and train it on 66% of the data set.\n",
        "clf = SVC(probability=True)\n",
        "clf.fit(X_train, y_train)\n",
        "\n",
        " #7. Analyze accuracy of predictions on 33% of the holdout test sample.\n",
        "classifier_score = clf.score(X_test, y_test)\n",
        "print('\\nThe classifier accuracy score is {:03.5f}\\n'.format(classifier_score*100))"
      ],
      "execution_count": null,
      "outputs": [
        {
          "output_type": "stream",
          "text": [
            "\n",
            "The classifier accuracy score is 95.70815\n",
            "\n"
          ],
          "name": "stdout"
        }
      ]
    },
    {
      "cell_type": "code",
      "metadata": {
        "id": "cBSXXx-jVDLu",
        "colab": {
          "base_uri": "https://localhost:8080/",
          "height": 50
        },
        "outputId": "f2a3d29c-c9e6-414d-c4a7-a0af79aebb0f"
      },
      "source": [
        "import sklearn.metrics as metrics\n",
        "y_pred = clf.fit(X_train, y_train).predict(X_test)\n",
        "cm = metrics.confusion_matrix(y_test, y_pred)\n",
        "print(cm)"
      ],
      "execution_count": null,
      "outputs": [
        {
          "output_type": "stream",
          "text": [
            "[[170   0]\n",
            " [ 10  53]]\n"
          ],
          "name": "stdout"
        }
      ]
    },
    {
      "cell_type": "code",
      "metadata": {
        "id": "C89UH3OVVNdX",
        "colab": {
          "base_uri": "https://localhost:8080/",
          "height": 486
        },
        "outputId": "a65d473c-e25c-4d44-ee56-037e00024c97"
      },
      "source": [
        "\n",
        "%matplotlib inline\n",
        "import matplotlib.pyplot as plt\n",
        "\n",
        "from IPython.display import Image, display\n",
        "\n",
        "fig, ax = plt.subplots(figsize=(5, 5))\n",
        "ax.matshow(cm, cmap=plt.cm.Reds, alpha=0.3)\n",
        "for i in range(cm.shape[0]):\n",
        "     for j in range(cm.shape[1]):\n",
        "         ax.text(x=j, y=i,\n",
        "                s=cm[i, j], \n",
        "                va='center', ha='center')\n",
        "plt.xlabel('Predicted Values', )\n",
        "plt.ylabel('Actual Values')\n",
        "plt.show()\n",
        "print(classification_report(y_test, y_pred ))"
      ],
      "execution_count": null,
      "outputs": [
        {
          "output_type": "display_data",
          "data": {
            "image/png": "[encoded data removed]",
            "text/plain": [
              "<Figure size 360x360 with 1 Axes>"
            ]
          },
          "metadata": {
            "tags": []
          }
        },
        {
          "output_type": "stream",
          "text": [
            "              precision    recall  f1-score   support\n",
            "\n",
            "          NO       0.94      1.00      0.97       170\n",
            "         YES       1.00      0.84      0.91        63\n",
            "\n",
            "    accuracy                           0.96       233\n",
            "   macro avg       0.97      0.92      0.94       233\n",
            "weighted avg       0.96      0.96      0.96       233\n",
            "\n"
          ],
          "name": "stdout"
        }
      ]
    },
    {
      "cell_type": "code",
      "metadata": {
        "id": "RmM-R7oSsKc3",
        "colab": {
          "base_uri": "https://localhost:8080/",
          "height": 591
        },
        "outputId": "75638805-17bd-43c9-826e-c3f0fa818726"
      },
      "source": [
        "import seaborn as sns\n",
        "plt.figure(figsize=(12, 9))\n",
        "corr = data.corr()\n",
        "sns.heatmap(corr,annot = True)"
      ],
      "execution_count": null,
      "outputs": [
        {
          "output_type": "execute_result",
          "data": {
            "text/plain": [
              "<matplotlib.axes._subplots.AxesSubplot at 0x7f7b11966a20>"
            ]
          },
          "metadata": {
            "tags": []
          },
          "execution_count": 66
        },
        {
          "output_type": "display_data",
          "data": {
            "image/png": "[encoded data removed]",
            "text/plain": [
              "<Figure size 864x648 with 2 Axes>"
            ]
          },
          "metadata": {
            "tags": []
          }
        }
      ]
    },
    {
      "cell_type": "markdown",
      "metadata": {
        "id": "QTML23TWu6B1"
      },
      "source": [
        "Decision Tree"
      ]
    },
    {
      "cell_type": "code",
      "metadata": {
        "id": "EAHo8bmXuxNt"
      },
      "source": [
        "from sklearn.model_selection import train_test_split\n",
        "X_train, X_test, y_train, y_test = train_test_split(X,y,test_size=0.2)"
      ],
      "execution_count": null,
      "outputs": []
    },
    {
      "cell_type": "code",
      "metadata": {
        "id": "iBcyY32yu1Fc",
        "colab": {
          "base_uri": "https://localhost:8080/",
          "height": 50
        },
        "outputId": "4f72c526-7438-4708-85c1-0ec74e8552a4"
      },
      "source": [
        "\n",
        "# Train the model on Decision Tree\n",
        "from sklearn import tree\n",
        "from sklearn.tree import DecisionTreeClassifier\n",
        "dtree = DecisionTreeClassifier(random_state=10)\n",
        "dtree.fit(X_train, y_train)\n",
        "print('Train score: {:.4f}'.format(dtree.score(X_train,y_train)))\n",
        "print('Test score: {:.4f}'.format(dtree.score(X_test, y_test)))"
      ],
      "execution_count": null,
      "outputs": [
        {
          "output_type": "stream",
          "text": [
            "Train score: 1.0000\n",
            "Test score: 0.8723\n"
          ],
          "name": "stdout"
        }
      ]
    },
    {
      "cell_type": "code",
      "metadata": {
        "id": "JiChf_3nuiXu",
        "colab": {
          "base_uri": "https://localhost:8080/",
          "height": 218
        },
        "outputId": "6405d985-1c1d-4f12-ca18-94c4feb6a7ad"
      },
      "source": [
        "from sklearn.metrics import classification_report\n",
        "from sklearn.metrics import accuracy_score\n",
        "pred = dtree.predict(X_test)\n",
        "print (accuracy_score(y_test, pred))\n",
        "print(classification_report(y_test, pred))\n",
        "\n",
        "# Confusion Matrix\n",
        "from sklearn import metrics\n",
        "confusion = metrics.confusion_matrix(y_test, pred)\n",
        "print(confusion)"
      ],
      "execution_count": null,
      "outputs": [
        {
          "output_type": "stream",
          "text": [
            "0.8723404255319149\n",
            "              precision    recall  f1-score   support\n",
            "\n",
            "          NO       0.91      0.91      0.91       103\n",
            "         YES       0.76      0.76      0.76        38\n",
            "\n",
            "    accuracy                           0.87       141\n",
            "   macro avg       0.84      0.84      0.84       141\n",
            "weighted avg       0.87      0.87      0.87       141\n",
            "\n",
            "[[94  9]\n",
            " [ 9 29]]\n"
          ],
          "name": "stdout"
        }
      ]
    },
    {
      "cell_type": "markdown",
      "metadata": {
        "id": "9buntW-GvXqi"
      },
      "source": [
        "Random Forest"
      ]
    },
    {
      "cell_type": "code",
      "metadata": {
        "id": "X87M96ZGvUXt",
        "colab": {
          "base_uri": "https://localhost:8080/",
          "height": 67
        },
        "outputId": "9dabfd1b-a6b9-448b-cf2e-1a334eb4e951"
      },
      "source": [
        "\n",
        "# Random Forest\n",
        "from sklearn.ensemble import RandomForestClassifier\n",
        "rf = RandomForestClassifier(n_estimators=5, random_state=1)\n",
        "rf.fit(X_train,y_train)\n",
        "print(\"Train Score : {}\".format(rf.score(X_train,y_train)))\n",
        "print(\"Test Score : {}\".format(rf.score(X_test,y_test)))\n",
        "\n",
        "\n",
        "\n",
        "# K cross validation\n",
        "from sklearn.model_selection import cross_val_score \n",
        "cv_scores = cross_val_score(rf, X, y, cv=10)\n",
        "\n",
        "cv_scores.mean()"
      ],
      "execution_count": null,
      "outputs": [
        {
          "output_type": "stream",
          "text": [
            "Train Score : 0.9946714031971581\n",
            "Test Score : 0.900709219858156\n"
          ],
          "name": "stdout"
        },
        {
          "output_type": "execute_result",
          "data": {
            "text/plain": [
              "0.9075613098883155"
            ]
          },
          "metadata": {
            "tags": []
          },
          "execution_count": 30
        }
      ]
    },
    {
      "cell_type": "code",
      "metadata": {
        "id": "KWyObR27vfBn",
        "colab": {
          "base_uri": "https://localhost:8080/",
          "height": 218
        },
        "outputId": "2b5eaf93-efa9-496e-c9c5-7480c8438cdc"
      },
      "source": [
        "from sklearn.metrics import classification_report\n",
        "from sklearn.metrics import accuracy_score\n",
        "pred = rf.predict(X_test)\n",
        "print (accuracy_score(y_test, pred))\n",
        "print(classification_report(y_test, pred))\n",
        "\n",
        "#Confusion Matrix\n",
        "from sklearn import metrics\n",
        "confusion = metrics.confusion_matrix(y_test, pred)\n",
        "print(confusion)"
      ],
      "execution_count": null,
      "outputs": [
        {
          "output_type": "stream",
          "text": [
            "0.9716312056737588\n",
            "              precision    recall  f1-score   support\n",
            "\n",
            "          NO       0.98      0.98      0.98       103\n",
            "         YES       0.95      0.95      0.95        38\n",
            "\n",
            "    accuracy                           0.97       141\n",
            "   macro avg       0.96      0.96      0.96       141\n",
            "weighted avg       0.97      0.97      0.97       141\n",
            "\n",
            "[[101   2]\n",
            " [  2  36]]\n"
          ],
          "name": "stdout"
        }
      ]
    },
    {
      "cell_type": "markdown",
      "metadata": {
        "id": "rJVmuwlbq6wW"
      },
      "source": [
        "Gaussian N B"
      ]
    },
    {
      "cell_type": "code",
      "metadata": {
        "id": "NY_hy4fcv4Hs",
        "colab": {
          "base_uri": "https://localhost:8080/",
          "height": 185
        },
        "outputId": "346fad50-0781-410b-a578-5e8baf1d6f65"
      },
      "source": [
        "from sklearn.naive_bayes import GaussianNB\n",
        "gauss = GaussianNB()\n",
        "gauss.fit(X_train,y_train)\n",
        "y_predic=gauss.predict(X_test)\n",
        "acc_g = gauss.score(X_train,y_train)*100\n",
        "print(classification_report(y_test, y_pred_per))\n",
        "print(acc_g)"
      ],
      "execution_count": null,
      "outputs": [
        {
          "output_type": "stream",
          "text": [
            "              precision    recall  f1-score   support\n",
            "\n",
            "          NO       0.99      1.00      1.00       103\n",
            "         YES       1.00      0.97      0.99        38\n",
            "\n",
            "    accuracy                           0.99       141\n",
            "   macro avg       1.00      0.99      0.99       141\n",
            "weighted avg       0.99      0.99      0.99       141\n",
            "\n",
            "41.207815275310836\n"
          ],
          "name": "stdout"
        }
      ]
    },
    {
      "cell_type": "markdown",
      "metadata": {
        "id": "qHFi84-8wF48"
      },
      "source": [
        "Perceptron"
      ]
    },
    {
      "cell_type": "code",
      "metadata": {
        "id": "Hj9KCVdSwDud",
        "colab": {
          "base_uri": "https://localhost:8080/",
          "height": 185
        },
        "outputId": "0ecdee55-8356-4b14-9ff6-23501bfe2522"
      },
      "source": [
        "from sklearn.linear_model import Perceptron\n",
        "percept = Perceptron(max_iter = 100)\n",
        "percept.fit(X_train,y_train)\n",
        "y_pred_per = percept.predict(X_test)\n",
        "acc_p = percept.score(X_train,y_train)*100\n",
        "print(classification_report(y_test, y_pred_per))\n",
        "print(acc_p)\n"
      ],
      "execution_count": null,
      "outputs": [
        {
          "output_type": "stream",
          "text": [
            "              precision    recall  f1-score   support\n",
            "\n",
            "          NO       0.99      1.00      1.00       103\n",
            "         YES       1.00      0.97      0.99        38\n",
            "\n",
            "    accuracy                           0.99       141\n",
            "   macro avg       1.00      0.99      0.99       141\n",
            "weighted avg       0.99      0.99      0.99       141\n",
            "\n",
            "100.0\n"
          ],
          "name": "stdout"
        }
      ]
    },
    {
      "cell_type": "markdown",
      "metadata": {
        "id": "gEjBWXdJysXb"
      },
      "source": [
        "KNN Classifier"
      ]
    },
    {
      "cell_type": "code",
      "metadata": {
        "id": "8rayD2C6yjCh",
        "colab": {
          "base_uri": "https://localhost:8080/",
          "height": 252
        },
        "outputId": "c27d1f84-be44-4bbd-a5ed-5b9fccf6a0a5"
      },
      "source": [
        "from sklearn.neighbors import KNeighborsClassifier\n",
        "knn = KNeighborsClassifier( n_neighbors = 5)\n",
        "knn.fit(X_train, y_train)\n",
        "print(\"Train Score : {}\".format(knn.score(X_train,y_train)))\n",
        "print(\"Test Score : {}\".format(knn.score(X_test,y_test)))\n",
        "\n",
        "knn_cvscore =  cross_val_score(knn, X, y, cv=10)\n",
        "knn_cvscore.mean()\n",
        "\n",
        "pred = knn.predict(X_test)\n",
        "print (accuracy_score(y_test, pred))\n",
        "print(classification_report(y_test, pred))\n",
        "\n",
        "#Confusion Matrix\n",
        "from sklearn import metrics\n",
        "confusion = metrics.confusion_matrix(y_test, pred)\n",
        "print(confusion)\n",
        "\n",
        "\n",
        "\n"
      ],
      "execution_count": null,
      "outputs": [
        {
          "output_type": "stream",
          "text": [
            "Train Score : 0.9609236234458259\n",
            "Test Score : 0.9290780141843972\n",
            "0.9290780141843972\n",
            "              precision    recall  f1-score   support\n",
            "\n",
            "          NO       0.94      0.96      0.95       103\n",
            "         YES       0.89      0.84      0.86        38\n",
            "\n",
            "    accuracy                           0.93       141\n",
            "   macro avg       0.92      0.90      0.91       141\n",
            "weighted avg       0.93      0.93      0.93       141\n",
            "\n",
            "[[99  4]\n",
            " [ 6 32]]\n"
          ],
          "name": "stdout"
        }
      ]
    },
    {
      "cell_type": "code",
      "metadata": {
        "id": "UJMdHjfTlXzt"
      },
      "source": [
        ""
      ],
      "execution_count": null,
      "outputs": []
    },
    {
      "cell_type": "markdown",
      "metadata": {
        "id": "5r7KX4-xy50S"
      },
      "source": [
        "Logistic Regression"
      ]
    },
    {
      "cell_type": "code",
      "metadata": {
        "id": "NFqZ6fmqy08J",
        "colab": {
          "base_uri": "https://localhost:8080/",
          "height": 252
        },
        "outputId": "ee7198ad-40f7-4189-93df-288e9e8c8e66"
      },
      "source": [
        "\n",
        "from sklearn.linear_model import LogisticRegression\n",
        "lreg = LogisticRegression()\n",
        "lreg.fit(X_train,y_train)\n",
        "\n",
        "print(\"Train Score : {}\".format(lreg.score(X_train,y_train)))\n",
        "print(\"Test Score : {}\".format(lreg.score(X_test,y_test)))\n",
        "\n",
        "lreg_cvscore =  cross_val_score(lreg, X, y, cv=10)\n",
        "lreg_cvscore.mean()\n",
        "\n",
        "pred = lreg.predict(X_test)\n",
        "print (accuracy_score(y_test, pred))\n",
        "print(classification_report(y_test, pred))\n",
        "\n",
        "#Confusion Matrix\n",
        "from sklearn import metrics\n",
        "confusion = metrics.confusion_matrix(y_test, pred)\n",
        "print(confusion)"
      ],
      "execution_count": null,
      "outputs": [
        {
          "output_type": "stream",
          "text": [
            "Train Score : 0.9964476021314387\n",
            "Test Score : 0.9929078014184397\n",
            "0.9929078014184397\n",
            "              precision    recall  f1-score   support\n",
            "\n",
            "          NO       0.99      1.00      1.00       103\n",
            "         YES       1.00      0.97      0.99        38\n",
            "\n",
            "    accuracy                           0.99       141\n",
            "   macro avg       1.00      0.99      0.99       141\n",
            "weighted avg       0.99      0.99      0.99       141\n",
            "\n",
            "[[103   0]\n",
            " [  1  37]]\n"
          ],
          "name": "stdout"
        }
      ]
    },
    {
      "cell_type": "code",
      "metadata": {
        "id": "oAiQEZdDzE8p",
        "colab": {
          "base_uri": "https://localhost:8080/",
          "height": 295
        },
        "outputId": "8e63a929-0537-4abb-99a7-98bc9eaaacea"
      },
      "source": [
        "from xgboost import XGBClassifier\n",
        "XGB = XGBClassifier(learning_rate = 0.05, n_estimators=300, max_depth=5)\n",
        "XGB.fit(X_train, y_train)\n",
        "\n",
        "from xgboost import plot_importance\n",
        "import matplotlib.pyplot as plt\n",
        "\n",
        "# plot feature importance\n",
        "plot_importance(XGB)\n",
        "plt.show()"
      ],
      "execution_count": null,
      "outputs": [
        {
          "output_type": "display_data",
          "data": {
            "image/png": "[encoded data removed]",
            "text/plain": [
              "<Figure size 432x288 with 1 Axes>"
            ]
          },
          "metadata": {
            "tags": []
          }
        }
      ]
    },
    {
      "cell_type": "code",
      "metadata": {
        "id": "GthtJk3sm6Pz",
        "colab": {
          "base_uri": "https://localhost:8080/",
          "height": 101
        },
        "outputId": "11b929d7-af40-4a68-fe9d-c2fd17c18e89"
      },
      "source": [
        "data.columns\n"
      ],
      "execution_count": null,
      "outputs": [
        {
          "output_type": "execute_result",
          "data": {
            "text/plain": [
              "Index(['A1_Score', 'A2_Score', 'A3_Score', 'A4_Score', 'A5_Score', 'A6_Score',\n",
              "       'A7_Score', 'A8_Score', 'A9_Score', 'A10_Score', 'age', 'gender ',\n",
              "       'ethnicity', 'jundice', 'family_history_of_PDD', 'contry_of_res',\n",
              "       'used_app_before', 'relation', 'class'],\n",
              "      dtype='object')"
            ]
          },
          "metadata": {
            "tags": []
          },
          "execution_count": 40
        }
      ]
    },
    {
      "cell_type": "code",
      "metadata": {
        "id": "lJruFKKGnKga",
        "colab": {
          "base_uri": "https://localhost:8080/",
          "height": 403
        },
        "outputId": "cba3927d-557f-40f4-dbd0-e3a68d69c00e"
      },
      "source": [
        "print(data.dtypes)\n",
        "total = len(data.index)\n",
        "positive = len(data[data['class']==\"YES\"])\n",
        "negative = len(data[data['class']==\"NO\"])\n",
        "\n",
        "print (\"Total number of records: {}\".format(total))\n",
        "print( \"Total number of positive autism cases:{}\".format(positive))\n",
        "print( \"Total number of negative autism cases:{}\".format(negative))"
      ],
      "execution_count": null,
      "outputs": [
        {
          "output_type": "stream",
          "text": [
            "A1_Score                  int64\n",
            "A2_Score                  int64\n",
            "A3_Score                  int64\n",
            "A4_Score                  int64\n",
            "A5_Score                  int64\n",
            "A6_Score                  int64\n",
            "A7_Score                  int64\n",
            "A8_Score                  int64\n",
            "A9_Score                  int64\n",
            "A10_Score                 int64\n",
            "age                      object\n",
            "gender                   object\n",
            "ethnicity                object\n",
            "jundice                  object\n",
            "family_history_of_PDD    object\n",
            "contry_of_res            object\n",
            "used_app_before          object\n",
            "relation                 object\n",
            "class                    object\n",
            "dtype: object\n",
            "Total number of records: 704\n",
            "Total number of positive autism cases:189\n",
            "Total number of negative autism cases:515\n"
          ],
          "name": "stdout"
        }
      ]
    },
    {
      "cell_type": "markdown",
      "metadata": {
        "id": "l_qiEYD6qkdK"
      },
      "source": [
        "stochastic gradient descent"
      ]
    },
    {
      "cell_type": "code",
      "metadata": {
        "id": "S8v45NA3nwzc",
        "colab": {
          "base_uri": "https://localhost:8080/",
          "height": 34
        },
        "outputId": "034176af-7b39-4af7-9e04-3fdf3e18241e"
      },
      "source": [
        "from sklearn.linear_model import SGDClassifier\n",
        "from sklearn import linear_model\n",
        "\n",
        "sgd = linear_model.SGDClassifier(max_iter = 7,tol =None)\n",
        "sgd.fit(X_train,y_train)\n",
        "Y_pred_sgd= sgd.predict(X_test)\n",
        "sgd.score(X_train,y_train)\n"
      ],
      "execution_count": null,
      "outputs": [
        {
          "output_type": "execute_result",
          "data": {
            "text/plain": [
              "1.0"
            ]
          },
          "metadata": {
            "tags": []
          },
          "execution_count": 82
        }
      ]
    },
    {
      "cell_type": "code",
      "metadata": {
        "id": "Kx7XjSTXuGbs",
        "colab": {
          "base_uri": "https://localhost:8080/",
          "height": 185
        },
        "outputId": "d81fba0c-6e91-473a-f15c-e72ccb73f394"
      },
      "source": [
        "pred = sgd.predict(X_test)\n",
        "print (accuracy_score(y_test, pred))\n",
        "print(classification_report(y_test, pred))"
      ],
      "execution_count": null,
      "outputs": [
        {
          "output_type": "stream",
          "text": [
            "0.9929078014184397\n",
            "              precision    recall  f1-score   support\n",
            "\n",
            "          NO       0.99      1.00      1.00       103\n",
            "         YES       1.00      0.97      0.99        38\n",
            "\n",
            "    accuracy                           0.99       141\n",
            "   macro avg       1.00      0.99      0.99       141\n",
            "weighted avg       0.99      0.99      0.99       141\n",
            "\n"
          ],
          "name": "stdout"
        }
      ]
    },
    {
      "cell_type": "code",
      "metadata": {
        "id": "RIoQSOKjrBQ_",
        "colab": {
          "base_uri": "https://localhost:8080/",
          "height": 441
        },
        "outputId": "56c9fc32-bbf4-48a6-8a11-b9875be46e5a"
      },
      "source": [
        "fig, ax = plt.subplots(1,2,figsize=(20,6))\n",
        "sns.countplot(x='jundice',data=data,hue='gender ',ax=ax[0])\n",
        "ax[0].set_title('ASD positive Toddlers born with jaundice based on gender')\n",
        "ax[0].set_xlabel('Jaundice while birth')\n",
        "sns.distplot(data['age'],kde=False,bins=30,color='red',ax=ax[1])\n",
        "ax[1].set_xlabel('Toddlers age in months')\n",
        "ax[1].set_title('Age distribution of ASD positive')"
      ],
      "execution_count": null,
      "outputs": [
        {
          "output_type": "execute_result",
          "data": {
            "text/plain": [
              "Text(0.5, 1.0, 'Age distribution of ASD positive')"
            ]
          },
          "metadata": {
            "tags": []
          },
          "execution_count": 47
        },
        {
          "output_type": "display_data",
          "data": {
            "image/png": "[encoded data removed]",
            "text/plain": [
              "<Figure size 1440x432 with 2 Axes>"
            ]
          },
          "metadata": {
            "tags": []
          }
        }
      ]
    },
    {
      "cell_type": "code",
      "metadata": {
        "id": "960BDU-hs3pX",
        "colab": {
          "base_uri": "https://localhost:8080/",
          "height": 296
        },
        "outputId": "8ac9078e-e7a5-4122-f86a-f4e2304e0a7b"
      },
      "source": [
        "sns.countplot(x='gender ',data=data)"
      ],
      "execution_count": null,
      "outputs": [
        {
          "output_type": "execute_result",
          "data": {
            "text/plain": [
              "<matplotlib.axes._subplots.AxesSubplot at 0x7f7b11b57fd0>"
            ]
          },
          "metadata": {
            "tags": []
          },
          "execution_count": 48
        },
        {
          "output_type": "display_data",
          "data": {
            "image/png": "[encoded data removed]",
            "text/plain": [
              "<Figure size 432x288 with 1 Axes>"
            ]
          },
          "metadata": {
            "tags": []
          }
        }
      ]
    },
    {
      "cell_type": "code",
      "metadata": {
        "id": "8q9L2_jPtA1V",
        "colab": {
          "base_uri": "https://localhost:8080/",
          "height": 514
        },
        "outputId": "d9e6e4c1-63c5-4faf-9ed8-74540c4394d9"
      },
      "source": [
        "\n",
        "plt.figure(figsize=(10,8))\n",
        "sns.countplot(x='ethnicity',data=data)"
      ],
      "execution_count": null,
      "outputs": [
        {
          "output_type": "execute_result",
          "data": {
            "text/plain": [
              "<matplotlib.axes._subplots.AxesSubplot at 0x7f7b11a6e7b8>"
            ]
          },
          "metadata": {
            "tags": []
          },
          "execution_count": 49
        },
        {
          "output_type": "display_data",
          "data": {
            "image/png": "[encoded data removed]",
            "text/plain": [
              "<Figure size 720x576 with 1 Axes>"
            ]
          },
          "metadata": {
            "tags": []
          }
        }
      ]
    },
    {
      "cell_type": "code",
      "metadata": {
        "id": "aeybm97pu6MT"
      },
      "source": [
        ""
      ],
      "execution_count": null,
      "outputs": []
    },
    {
      "cell_type": "markdown",
      "metadata": {
        "id": "qfNbbnKMX1zP"
      },
      "source": [
        "Comparing Different mODELS USING OUTPUTS (error)\n",
        "\n",
        "\n"
      ]
    },
    {
      "cell_type": "code",
      "metadata": {
        "id": "-GklD93NX7Bc"
      },
      "source": [
        "\n",
        "import numpy as np\n",
        "import pandas as pd\n",
        "\n",
        "import warnings\n",
        "warnings.filterwarnings('ignore')"
      ],
      "execution_count": null,
      "outputs": []
    },
    {
      "cell_type": "code",
      "metadata": {
        "id": "v4BDI1aEX-g9"
      },
      "source": [
        "from sklearn.model_selection import train_test_split\n",
        "from sklearn.metrics import f1_score\n",
        "from sklearn.model_selection import StratifiedKFold\n",
        "\n",
        "def f1_scores(Z, y_test):\n",
        "    averages = ['macro', 'micro', 'weighted']\n",
        "    for avg in averages:\n",
        "        score = f1_score(Z, y_test, average=avg)\n",
        "        print(\"f1 score ({}): {}\".format(avg, score))\n",
        "\n",
        "def test_model(X, y, model_name, model):\n",
        "    print(\"MODEL: {}\".format(model_name))\n",
        "    X_train, X_test, y_train, y_test = train_test_split(X, y, test_size=0.2)\n",
        "    model.fit(X_train, y_train)\n",
        "    Z = model.predict(X_test)\n",
        "    f1_scores(Z, y_test)\n",
        "    \n",
        "def testModelKFold(X, y, model_name, model, k):\n",
        "    print(\"CROSS VALIDATION FOR: {}\".format(model_name))\n",
        "    skf = StratifiedKFold(n_splits=5)\n",
        "    skf.get_n_splits(X, y)\n",
        "    f1_scores = []\n",
        "    f1_scores_train = []\n",
        "    for train_index, test_index in skf.split(X, y):\n",
        "        X_train, X_test = X[train_index], X[test_index]\n",
        "        y_train, y_test = y[train_index], y[test_index]\n",
        "        model.fit(X_train, y_train)\n",
        "        Z = model.predict(X_test)\n",
        "        f1_scores.append(f1_score(Z, y_test))\n",
        "        Z_train = model.predict(X_train)\n",
        "        f1_scores_train.append(f1_score(Z_train, y_train))\n",
        "    print(\"f1 scores test: {}\".format(f1_scores))\n",
        "    print(\"f1 scores train: {}\".format(f1_scores_train))\n",
        "    print(\"MEAN test: {}\".format(np.mean(f1_scores)))\n",
        "    print(\"MEAN train: {}\".format(np.mean(f1_scores_train)))\n",
        "    return np.mean(f1_scores)"
      ],
      "execution_count": null,
      "outputs": []
    },
    {
      "cell_type": "code",
      "metadata": {
        "id": "dYnLpUCpYGBD"
      },
      "source": [
        "\n",
        "from sklearn.linear_model import LogisticRegression\n",
        "from sklearn.svm import SVC, LinearSVC\n",
        "from sklearn.ensemble import RandomForestClassifier\n",
        "from sklearn.neighbors import KNeighborsClassifier\n",
        "from sklearn.naive_bayes import GaussianNB\n",
        "from sklearn.linear_model import Perceptron\n",
        "from sklearn.linear_model import SGDClassifier\n",
        "from sklearn.tree import DecisionTreeClassifier\n",
        "\n",
        "models = {\n",
        "    \"Logistic Regression\": LogisticRegression(),\n",
        "    \"SVC\": SVC(),\n",
        "    \"Random Forest\": RandomForestClassifier(n_estimators=1000),\n",
        "    \"K-Nearest Neighbors\": KNeighborsClassifier(n_neighbors = 3),\n",
        "    \"GaussianNB\": GaussianNB(),\n",
        "    \"Perceptron\": Perceptron(),\n",
        "    \"SGDClassifier\": SGDClassifier(),\n",
        "    \"Decision Tree\": DecisionTreeClassifier()   \n",
        "}\n",
        "\n",
        "dataset_path = \"/content/sample_data/autism-data.csv\"\n",
        "data = pd.read_csv(dataset_path)\n",
        "#X = data.drop(\"diagnosis\", axis=1).values\n",
        "#y = data[\"diagnosis\"]\n",
        "X = data.iloc[:,:20].values\n",
        "y = data.iloc[:,20:21].values\n",
        "\n",
        "for model in models:\n",
        "    test_model(X, y, model, models[model])\n",
        "    testModelKFold(X, y, model, models[model], k=5)\n",
        "    print('')"
      ],
      "execution_count": null,
      "outputs": []
    },
    {
      "cell_type": "code",
      "metadata": {
        "id": "ByP3EOoJd7ow"
      },
      "source": [
        ""
      ],
      "execution_count": null,
      "outputs": []
    }
  ]
}